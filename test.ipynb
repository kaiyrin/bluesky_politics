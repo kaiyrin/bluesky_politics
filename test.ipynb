{
 "cells": [
  {
   "cell_type": "code",
   "execution_count": 63,
   "id": "eca38f7e",
   "metadata": {},
   "outputs": [],
   "source": [
    "BSKY_HANDLE = \"kallistrate.bsky.social\""
   ]
  },
  {
   "cell_type": "code",
   "execution_count": 64,
   "id": "f0dcdaad",
   "metadata": {},
   "outputs": [],
   "source": [
    "from atproto import Client\n",
    "import os\n",
    "\n",
    "client = Client()\n",
    "username = os.getenv('BSKY_USERNAME')\n",
    "password = os.getenv('BSKY_PASSWORD')\n",
    "handle = os.getenv('BSKY_HANDLE')\n"
   ]
  },
  {
   "cell_type": "code",
   "execution_count": 65,
   "id": "a759cfcc",
   "metadata": {},
   "outputs": [],
   "source": [
    "handle = BSKY_HANDLE"
   ]
  },
  {
   "cell_type": "code",
   "execution_count": 66,
   "id": "bde71588",
   "metadata": {},
   "outputs": [
    {
     "name": "stdout",
     "output_type": "stream",
     "text": [
      "kallistrate.bsky.social\n"
     ]
    }
   ],
   "source": [
    "print(handle)"
   ]
  },
  {
   "cell_type": "code",
   "execution_count": 67,
   "id": "318a5a3a",
   "metadata": {},
   "outputs": [
    {
     "name": "stdout",
     "output_type": "stream",
     "text": [
      "kallistrate\n",
      "Ayash123\n",
      "kallistrate.bsky.social\n"
     ]
    }
   ],
   "source": [
    "print(username)\n",
    "print(password)\n",
    "print(handle)"
   ]
  },
  {
   "cell_type": "code",
   "execution_count": 68,
   "id": "d344143d",
   "metadata": {},
   "outputs": [
    {
     "data": {
      "text/plain": [
       "ProfileViewDetailed(did='did:plc:2ajskzwt4ifo2bkmjmzj6e7j', handle='kallistrate.bsky.social', associated=ProfileAssociated(activity_subscription=ProfileAssociatedActivitySubscription(allow_subscriptions='followers', py_type='app.bsky.actor.defs#profileAssociatedActivitySubscription'), chat=None, feedgens=0, labeler=False, lists=0, starter_packs=0, py_type='app.bsky.actor.defs#profileAssociated'), avatar='https://cdn.bsky.app/img/avatar/plain/did:plc:2ajskzwt4ifo2bkmjmzj6e7j/bafkreig2s7qacccfw3kvnqnbv7dsaymv3r7zaguvvzz5vakfxgolue5xdy@jpeg', banner=None, created_at='2025-09-04T15:19:32.598Z', description=None, display_name='', followers_count=0, follows_count=1, indexed_at='2025-09-04T15:19:32.598Z', joined_via_starter_pack=None, labels=[], pinned_post=None, posts_count=0, status=None, verification=None, viewer=ViewerState(activity_subscription=None, blocked_by=False, blocking=None, blocking_by_list=None, followed_by=None, following=None, known_followers=None, muted=False, muted_by_list=None, py_type='app.bsky.actor.defs#viewerState'), py_type='app.bsky.actor.defs#profileViewDetailed')"
      ]
     },
     "execution_count": 68,
     "metadata": {},
     "output_type": "execute_result"
    }
   ],
   "source": [
    "client.login(handle, password)"
   ]
  },
  {
   "cell_type": "code",
   "execution_count": 69,
   "id": "498f38ee",
   "metadata": {},
   "outputs": [],
   "source": [
    "politics_keywords = [\"politics\", \"election\", \"government\", \"policy\", \"vote\", \n",
    "                    \"democracy\", \"senate\", \"congress\", \"president\", \"campaign\", \n",
    "                    \"legislation\",\"freedom\", \"free_speech\", \"free speech\", \"justice\"]"
   ]
  },
  {
   "cell_type": "code",
   "execution_count": 70,
   "id": "90c22cd0",
   "metadata": {},
   "outputs": [],
   "source": [
    "def contains_politics(text):\n",
    "    if not text:\n",
    "        return False\n",
    "    text_lower = text.lower()\n",
    "    return any(keyword in text_lower for keyword in politics_keywords)"
   ]
  },
  {
   "cell_type": "code",
   "execution_count": 71,
   "id": "de8487ef",
   "metadata": {},
   "outputs": [],
   "source": [
    "def get_political_accounts(limit=100):\n",
    "    found_handles = set()\n",
    "\n",
    "    for keyword in politics_keywords:\n",
    "        try:\n",
    "            res = client.app.bsky.actor.search_actors(q=keyword, limit=limit)\n",
    "            for account in res['data']:\n",
    "                display_name = account.get('displayName', '')\n",
    "                description = account.get('description', '')\n",
    "                handle = account.get('handle')\n",
    "\n",
    "                if handle and (contains_politics(display_name) or contains_politics(description)):\n",
    "                    if handle not in found_handles:\n",
    "                        found_handles.add(handle)\n",
    "                        print(f\"Found political account: {handle}\")\n",
    "                        yield handle\n",
    "                print(account)\n",
    "        except Exception as e:\n",
    "            print(f\"Error searching actors for keyword '{keyword}': {e}\")\n",
    "        "
   ]
  },
  {
   "cell_type": "code",
   "execution_count": 72,
   "id": "3f3fdfc4",
   "metadata": {},
   "outputs": [],
   "source": [
    "import time"
   ]
  },
  {
   "cell_type": "code",
   "execution_count": 73,
   "id": "bc588dcf",
   "metadata": {},
   "outputs": [],
   "source": [
    "max_account = 10\n",
    "keyword_limit = 100\n",
    "sleep = 0.25 # seconds pase per request\n",
    "def contains_politics(text):\n",
    "    if not text:\n",
    "        return False\n",
    "    text_lower = text.lower()\n",
    "    return any(keyword in text_lower for keyword in politics_keywords)"
   ]
  },
  {
   "cell_type": "code",
   "execution_count": 92,
   "id": "4988a9f8",
   "metadata": {},
   "outputs": [],
   "source": [
    "\n",
    "\n",
    "def get_political_accounts(client = client, limit = keyword_limit, max_accounts = max_account, sleep_time = sleep):\n",
    "    found_accounts = set()\n",
    "    full_politics = []\n",
    "    for key in politics_keywords:\n",
    "        accounts = client.app.bsky.actor.search_actors(params={\"q\": key, \"limit\": limit})\n",
    "        for account in accounts.actors:\n",
    "            display = account.display_name or ''\n",
    "            bio = account.description or ''\n",
    "            actor_username = account.handle\n",
    "\n",
    "        if contains_politics(display) or contains_politics(bio) or contains_politics(actor_username):\n",
    "            found_accounts.add(actor_username)\n",
    "            full_politics.append({\n",
    "                'bsk_handle': actor_username,\n",
    "                'display': display,\n",
    "                'bio': bio\n",
    "            })\n",
    "            # print(f\"Found political account: {actor_username}\")\n",
    "            # print(\"Full list of actors to  analyze: \", full_politics)\n",
    "            if len(found_accounts) >= max_accounts:\n",
    "                return list(found_accounts)\n",
    "        time.sleep(sleep_time)  #p.s. ai suggestion\n"
   ]
  },
  {
   "cell_type": "code",
   "execution_count": 93,
   "id": "c1c7f469",
   "metadata": {},
   "outputs": [
    {
     "data": {
      "text/plain": [
       "['willpjones.bsky.social',\n",
       " 'washingtonmonthly.com',\n",
       " 'bouldervoter.bsky.social',\n",
       " 'gargeeghosh.bsky.social',\n",
       " 'povertyscholar.bsky.social',\n",
       " 'judah-grunstein.bsky.social',\n",
       " 'jeancarl10.bsky.social',\n",
       " 'goatsflyingpress.com',\n",
       " 'reniebird.bsky.social',\n",
       " 'titus.house.gov']"
      ]
     },
     "execution_count": 93,
     "metadata": {},
     "output_type": "execute_result"
    }
   ],
   "source": [
    "get_political_accounts()"
   ]
  },
  {
   "cell_type": "code",
   "execution_count": 95,
   "id": "13f92d36",
   "metadata": {},
   "outputs": [],
   "source": [
    "def get_political_posts(account_input_list, client=client, posts_per_account=3):\n",
    "    all_posts = {}\n",
    "    for account in account_input_list:\n",
    "        try:\n",
    "            posts = client.app.bsky.feed.get_author_feed(actor=account, limit=posts_per_account)\n",
    "            all_posts[account] = [post.record.text for post in posts.feed]\n",
    "        except Exception as e:\n",
    "            print(f\"Error fetching posts for {account}: {e}\")\n",
    "    return all_posts"
   ]
  },
  {
   "cell_type": "code",
   "execution_count": 96,
   "id": "537a03b8",
   "metadata": {},
   "outputs": [
    {
     "name": "stdout",
     "output_type": "stream",
     "text": [
      "Error fetching posts for willpjones.bsky.social: AppBskyFeedNamespace.get_author_feed() missing 1 required positional argument: 'params'\n",
      "Error fetching posts for washingtonmonthly.com: AppBskyFeedNamespace.get_author_feed() missing 1 required positional argument: 'params'\n",
      "Error fetching posts for bouldervoter.bsky.social: AppBskyFeedNamespace.get_author_feed() missing 1 required positional argument: 'params'\n",
      "Error fetching posts for gargeeghosh.bsky.social: AppBskyFeedNamespace.get_author_feed() missing 1 required positional argument: 'params'\n",
      "Error fetching posts for povertyscholar.bsky.social: AppBskyFeedNamespace.get_author_feed() missing 1 required positional argument: 'params'\n",
      "Error fetching posts for judah-grunstein.bsky.social: AppBskyFeedNamespace.get_author_feed() missing 1 required positional argument: 'params'\n",
      "Error fetching posts for jeancarl10.bsky.social: AppBskyFeedNamespace.get_author_feed() missing 1 required positional argument: 'params'\n",
      "Error fetching posts for goatsflyingpress.com: AppBskyFeedNamespace.get_author_feed() missing 1 required positional argument: 'params'\n",
      "Error fetching posts for reniebird.bsky.social: AppBskyFeedNamespace.get_author_feed() missing 1 required positional argument: 'params'\n",
      "Error fetching posts for titus.house.gov: AppBskyFeedNamespace.get_author_feed() missing 1 required positional argument: 'params'\n"
     ]
    },
    {
     "data": {
      "text/plain": [
       "{}"
      ]
     },
     "execution_count": 96,
     "metadata": {},
     "output_type": "execute_result"
    }
   ],
   "source": [
    "get_political_posts(account_input_list = get_political_accounts(), posts_per_account = 3)"
   ]
  },
  {
   "cell_type": "code",
   "execution_count": 45,
   "id": "058f40c5",
   "metadata": {},
   "outputs": [],
   "source": [
    "\n",
    "def get_user_posts(handle, limit=10):\n",
    "    try:\n",
    "        posts = client.app.bsky.feed.get_author_feed(actor=handle, limit=limit)\n",
    "        print(posts)\n",
    "        return [post['post']['text'] for post in posts['data']]\n",
    "    except Exception as e:\n",
    "        print(f\"Error fetching posts for {handle}: {e}\")\n",
    "        return []"
   ]
  },
  {
   "cell_type": "code",
   "execution_count": 46,
   "id": "b34beaed",
   "metadata": {},
   "outputs": [
    {
     "name": "stdout",
     "output_type": "stream",
     "text": [
      "Error fetching posts for kallistrate.bsky.social: AppBskyFeedNamespace.get_author_feed() missing 1 required positional argument: 'params'\n"
     ]
    },
    {
     "data": {
      "text/plain": [
       "[]"
      ]
     },
     "execution_count": 46,
     "metadata": {},
     "output_type": "execute_result"
    }
   ],
   "source": [
    "get_user_posts(handle, limit=10)"
   ]
  },
  {
   "cell_type": "code",
   "execution_count": null,
   "id": "9b865b29",
   "metadata": {},
   "outputs": [],
   "source": []
  }
 ],
 "metadata": {
  "kernelspec": {
   "display_name": ".venv",
   "language": "python",
   "name": "python3"
  },
  "language_info": {
   "codemirror_mode": {
    "name": "ipython",
    "version": 3
   },
   "file_extension": ".py",
   "mimetype": "text/x-python",
   "name": "python",
   "nbconvert_exporter": "python",
   "pygments_lexer": "ipython3",
   "version": "3.11.1"
  }
 },
 "nbformat": 4,
 "nbformat_minor": 5
}
